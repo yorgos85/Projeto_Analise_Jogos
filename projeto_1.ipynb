{
 "cells": [
  {
   "cell_type": "markdown",
   "metadata": {},
   "source": [
    "IMPORTANDO AS BIBLIOTECAS"
   ]
  },
  {
   "cell_type": "code",
   "execution_count": null,
   "metadata": {},
   "outputs": [],
   "source": [
    "\n",
    "import pandas as pd\n",
    "import numpy as np\n",
    "import matplotlib.pyplot as plt"
   ]
  },
  {
   "cell_type": "markdown",
   "metadata": {},
   "source": [
    "CARREGANDO CSV"
   ]
  },
  {
   "cell_type": "code",
   "execution_count": null,
   "metadata": {},
   "outputs": [],
   "source": [
    "df = pd.read_csv('/Users/usuario/Desktop/projeto_1_jogos/vgsales.csv')"
   ]
  },
  {
   "cell_type": "markdown",
   "metadata": {},
   "source": [
    "VENDO OS DETALHES DA BASE DE DADOS"
   ]
  },
  {
   "cell_type": "code",
   "execution_count": null,
   "metadata": {},
   "outputs": [],
   "source": [
    "df.head()"
   ]
  },
  {
   "cell_type": "markdown",
   "metadata": {},
   "source": [
    " VERIFICANDO O JOGO MAIS VENDIDO NO ANO DE 2010."
   ]
  },
  {
   "cell_type": "code",
   "execution_count": null,
   "metadata": {},
   "outputs": [],
   "source": [
    "games_10 = df.query('Year == 2010')\n",
    "games_2010_max = games_10['Global_Sales'].max()\n",
    "jogo_ven_2010 = games_10.query(f'Global_Sales == {games_2010_max}') ##gera o valor maximo econtrado\n",
    "jogo_ven_2010['Name']"
   ]
  },
  {
   "cell_type": "markdown",
   "metadata": {},
   "source": [
    "QUAL FOI O GENERO MAIS VENDIDO NA AMERICA DO NORTE EM 2005."
   ]
  },
  {
   "cell_type": "code",
   "execution_count": null,
   "metadata": {},
   "outputs": [],
   "source": [
    "games_2005 = df.query('Year == 2005')\n",
    "games_2005_genre_groupby_sum = games_2005.groupby('Genre').sum()\n",
    "games_2005_sum_max = games_2005_genre_groupby_sum['NA_Sales'].max()\n",
    "res = games_2005_genre_groupby_sum.query(f'NA_Sales == {games_2005_sum_max}') \n",
    "res.iloc[0].name\n",
    "\n",
    "\n",
    "#RESPOSTA ACAO\n"
   ]
  },
  {
   "cell_type": "markdown",
   "metadata": {},
   "source": [
    "QUAL FOI A EMPRESA QUE MAIS VENDEU DE 2005 ATÉ 2016 "
   ]
  },
  {
   "cell_type": "code",
   "execution_count": null,
   "metadata": {},
   "outputs": [],
   "source": [
    "games_2005_2016 = df.query('2005 <= Year <= 2016')\n",
    "games_2005_2016_sum = games_2005_2016.groupby('Publisher').sum()\n",
    "games_2005_2016_max = games_2005_2016_sum['Global_Sales'].max()\n",
    "games_2005_2016_filtro = games_2005_2016_sum.query(f'Global_Sales == {games_2005_2016_max}')\n",
    "games_total = games_2005_2016_filtro\n",
    "games_total.iloc[0].name\n",
    "\n",
    "#RESPOSTA NINTENDO\n",
    "\n",
    "\n",
    "\n"
   ]
  },
  {
   "cell_type": "markdown",
   "metadata": {},
   "source": [
    "NOME DO JOGO MENOS VENDIDO EM 2008 DO GENERO SPORTS"
   ]
  },
  {
   "cell_type": "code",
   "execution_count": null,
   "metadata": {},
   "outputs": [],
   "source": [
    "games_2008_menos = df.query(\"Year == 2008 and Genre == 'Sports'\")\n",
    "games_2008_menos_min = games_2008_menos['Global_Sales'].min()\n",
    "games_2008_min_sales = games_2008_menos.query(f'Global_Sales == {games_2008_menos_min}')\n",
    "\n",
    "print(games_2008_min_sales)\n",
    "\n",
    "#RESPOSTA DIVERSOS JOGOS VENDIDOS\n",
    "\n"
   ]
  },
  {
   "cell_type": "markdown",
   "metadata": {},
   "source": [
    " APRESENTANDO GRAFICO TOTAL DE VENDAS POR ANO."
   ]
  },
  {
   "cell_type": "code",
   "execution_count": null,
   "metadata": {},
   "outputs": [],
   "source": [
    "games_sales_year = df.groupby('Year')['Global_Sales'].sum()\n",
    "games_sales_year.plot.bar(figsize=(16,5))\n",
    "\n",
    "\n",
    "#Podemos analisar que apartir de 1996 comeca a crescer o total das vendas comecando a cair no ano de 2011"
   ]
  },
  {
   "cell_type": "markdown",
   "metadata": {},
   "source": [
    "APRESENTACAO GRÁFICO DO TOTAL DE VENDAS NA AMERICA DO NORTE"
   ]
  },
  {
   "cell_type": "code",
   "execution_count": null,
   "metadata": {},
   "outputs": [],
   "source": [
    "\n",
    "\n",
    "x_ano = df['Year']\n",
    "y_vendas = df['NA_Sales']\n",
    "font1 = {'family':'serif','color':'Black','size':14}\n",
    "font2 = {'family':'serif','color':'Black','size':10}\n",
    "\n",
    "plt.plot(x_ano,y_vendas, color='Green')\n",
    "plt.ylabel(\"Vendas T America do Norte\", fontdict=font2)\n",
    "plt.xlabel(\"Ano\", fontdict=font2)\n",
    "plt.title(\"Gráfico Total de Vendas na America do Norte\", fontdict=font1)\n",
    "plt.show()"
   ]
  },
  {
   "cell_type": "markdown",
   "metadata": {},
   "source": [
    " QUAL FOI O ANO COM MAIS LANCAMENTOS DE JOGOS"
   ]
  },
  {
   "cell_type": "code",
   "execution_count": null,
   "metadata": {},
   "outputs": [],
   "source": [
    "agrupar_ano_mais_lancamentos = df.groupby('Year').count()\n",
    "agrupar_ano_mais_lancamentos\n",
    "\n",
    "# resposta 2009 com 1433\n"
   ]
  },
  {
   "cell_type": "markdown",
   "metadata": {},
   "source": [
    "PLATAFORMA QUE LANCOU MENOS JOGOS"
   ]
  },
  {
   "cell_type": "code",
   "execution_count": null,
   "metadata": {},
   "outputs": [],
   "source": [
    "publicacao = df.groupby('Publisher').count()\n",
    "publicacao['Platform'].min\n",
    "\n",
    "#Resposta diversas plataformas apresentadas"
   ]
  },
  {
   "cell_type": "markdown",
   "metadata": {},
   "source": [
    "PLATAFORMA QUE MAIS GEROU LUCROS COM JOGOS DO GENERO ACAO DESDE 2009"
   ]
  },
  {
   "cell_type": "code",
   "execution_count": null,
   "metadata": {},
   "outputs": [],
   "source": [
    "gen_acao_mais_2009 = df.query('Genre == \"Action\" & Year >= 2009')\n",
    "gen_acao_mais_2009_max = gen_acao_mais_2009['Global_Sales'].max()\n",
    "gen_acao_mais_2009_max_res = gen_acao_mais_2009.query(f'Global_Sales == {gen_acao_mais_2009_max}')\n",
    "gen_acao_mais_2009_max_res.iloc[0].Platform\n",
    "\n",
    "#Resposta PS3"
   ]
  },
  {
   "cell_type": "markdown",
   "metadata": {},
   "source": [
    "Qual empresa teve o maior lucro (sob o teto de 0.35 milhões) de 1980 até 1995, excluindo-se a plataforma SNES."
   ]
  },
  {
   "cell_type": "code",
   "execution_count": null,
   "metadata": {},
   "outputs": [],
   "source": [
    "filtro = df.query('Global_Sales >= 0.35 & Platform != \"SNES\" & Year >= 1980 & Year <= 1995')\n",
    "filtro_lucro_max = filtro['Global_Sales'].max()\n",
    "filtro_lucro_max_res = filtro.query(f'Global_Sales == {filtro_lucro_max}')\n",
    "filtro_lucro_max_res\n",
    "filtro_lucro_max_res.iloc[0].Publisher\n",
    "\n",
    "#Resposta NINTENDO\n",
    "\n",
    "\n"
   ]
  },
  {
   "cell_type": "markdown",
   "metadata": {},
   "source": [
    "Empresa que mais lucrou no Japão em 2003 é a mesma que mais lucrou na europa nesse mesmo ano?"
   ]
  },
  {
   "cell_type": "code",
   "execution_count": null,
   "metadata": {},
   "outputs": [],
   "source": [
    "\n",
    "\n",
    "filtro_2003_japao = df.query('Year == 2003 & JP_Sales > 0.0')\n",
    "filtro_2003_japao_max = filtro_2003_japao['JP_Sales'].max()\n",
    "filtro_2003_japao_max_res = filtro_2003_japao.query(f'JP_Sales == {filtro_2003_japao_max}')\n",
    "filtro_2003_japao_max_res.iloc[0].Publisher\n",
    "\n",
    "\n",
    "# Europa 2003 mais lucrou\n",
    "\n",
    "filtro_2003_europa = df.query('Year == 2003 & EU_Sales > 0.0')\n",
    "filtro_2003_europa_max = filtro_2003_europa['EU_Sales'].max()\n",
    "filtro_2003_europa_max\n",
    "filtro_2003_europa_max_res = filtro_2003_europa.query(f'EU_Sales == {filtro_2003_europa_max}')\n",
    "filtro_2003_europa_max_res.iloc[0].Publisher\n",
    "filtro_2003_europa_max_res.iloc[0].Publisher\n",
    "\n",
    "#Resposta Empresa que mais lucrou em 2003 no Japao e Europa foi a ELETRONIC ARTS"
   ]
  },
  {
   "cell_type": "markdown",
   "metadata": {},
   "source": [
    "Gráfico de pizza com o percentual de vendas dos diferentes\n",
    "#gêneros de jogos."
   ]
  },
  {
   "cell_type": "code",
   "execution_count": null,
   "metadata": {},
   "outputs": [],
   "source": [
    "\n",
    "percentual_vendas_generos = df.groupby('Genre')['Global_Sales'].sum()\n",
    "percentual_vendas_generos.plot.pie(figsize=(16,10), autopct=\"%1.2f%%\")"
   ]
  }
 ],
 "metadata": {
  "interpreter": {
   "hash": "7e1998ff7f8aa20ada591c520b972326324e5ea05489af9e422744c7c09f6dad"
  },
  "kernelspec": {
   "display_name": "Python 3.10.5 64-bit",
   "language": "python",
   "name": "python3"
  },
  "language_info": {
   "codemirror_mode": {
    "name": "ipython",
    "version": 3
   },
   "file_extension": ".py",
   "mimetype": "text/x-python",
   "name": "python",
   "nbconvert_exporter": "python",
   "pygments_lexer": "ipython3",
   "version": "3.10.9"
  },
  "orig_nbformat": 4
 },
 "nbformat": 4,
 "nbformat_minor": 2
}
